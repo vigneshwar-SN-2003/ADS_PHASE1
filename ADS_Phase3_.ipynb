{
  "nbformat": 4,
  "nbformat_minor": 0,
  "metadata": {
    "colab": {
      "provenance": []
    },
    "kernelspec": {
      "name": "python3",
      "display_name": "Python 3"
    },
    "language_info": {
      "name": "python"
    }
  },
  "cells": [
    {
      "cell_type": "markdown",
      "source": [
        "**IMPORTING THE REQUIRED LIBRARIES**"
      ],
      "metadata": {
        "id": "BitlhOPiWxnI"
      }
    },
    {
      "cell_type": "code",
      "execution_count": 7,
      "metadata": {
        "id": "rM4FmJqfTxGu"
      },
      "outputs": [],
      "source": [
        "import pandas as pd\n",
        "import matplotlib.pyplot as plt\n",
        "from sklearn.impute import SimpleImputer\n",
        "from sklearn.model_selection import train_test_split\n",
        "from sklearn.preprocessing import MinMaxScaler"
      ]
    },
    {
      "cell_type": "markdown",
      "source": [
        "**LOADING THE DATASET**"
      ],
      "metadata": {
        "id": "4jzzmqz9XBKG"
      }
    },
    {
      "cell_type": "code",
      "source": [
        "!pip install chardet\n",
        "import chardet\n",
        "\n",
        "with open('/content/NetflixOriginals (1).csv', 'rb') as rawdata:\n",
        "    result = chardet.detect(rawdata.read(10000))\n",
        "\n",
        "encoding = result['encoding']\n",
        "\n",
        "df = pd.read_csv('/content/NetflixOriginals (1).csv', encoding=encoding)\n"
      ],
      "metadata": {
        "id": "K0jR8ORtTy7c",
        "colab": {
          "base_uri": "https://localhost:8080/"
        },
        "outputId": "e78b586c-dae2-42d0-c4c3-b6c7c9b26bf5"
      },
      "execution_count": 9,
      "outputs": [
        {
          "output_type": "stream",
          "name": "stdout",
          "text": [
            "Requirement already satisfied: chardet in /usr/local/lib/python3.10/dist-packages (5.2.0)\n"
          ]
        }
      ]
    },
    {
      "cell_type": "markdown",
      "source": [
        "**HANDLING THE MISSING VALUES USING SIMPLE IMPUTER IN SKLEARN**"
      ],
      "metadata": {
        "id": "GugaEMnwXIrk"
      }
    },
    {
      "cell_type": "code",
      "source": [
        "df.isnull().sum()"
      ],
      "metadata": {
        "colab": {
          "base_uri": "https://localhost:8080/"
        },
        "id": "jxp-pY4pWT3t",
        "outputId": "a99d7895-343a-4a81-9142-14e174ba2f7a"
      },
      "execution_count": 10,
      "outputs": [
        {
          "output_type": "execute_result",
          "data": {
            "text/plain": [
              "Title         0\n",
              "Genre         0\n",
              "Premiere      0\n",
              "Runtime       0\n",
              "IMDB Score    0\n",
              "Language      0\n",
              "dtype: int64"
            ]
          },
          "metadata": {},
          "execution_count": 10
        }
      ]
    },
    {
      "cell_type": "code",
      "source": [
        "\n",
        "# Handling missing values using SimpleImputer\n",
        "imputer = SimpleImputer(strategy='mean')\n",
        "df = df.fillna(df.mean())  # Fill missing values with mean values"
      ],
      "metadata": {
        "colab": {
          "base_uri": "https://localhost:8080/"
        },
        "id": "Ok7z-bYnWhul",
        "outputId": "a0c62a71-12a1-4c69-e75d-4a23c659d421"
      },
      "execution_count": 11,
      "outputs": [
        {
          "output_type": "stream",
          "name": "stderr",
          "text": [
            "<ipython-input-11-5be8887a7716>:3: FutureWarning: The default value of numeric_only in DataFrame.mean is deprecated. In a future version, it will default to False. In addition, specifying 'numeric_only=None' is deprecated. Select only valid columns or specify the value of numeric_only to silence this warning.\n",
            "  df = df.fillna(df.mean())  # Fill missing values with mean values\n"
          ]
        }
      ]
    },
    {
      "cell_type": "markdown",
      "source": [
        "**SPLITING THE DATA INTO TRAIN SET AND TEST SET**"
      ],
      "metadata": {
        "id": "LoM9QM4ZXU-D"
      }
    },
    {
      "cell_type": "code",
      "source": [
        "from sklearn.model_selection import train_test_split\n",
        "\n",
        "# Assuming your DataFrame is named 'df' and contains your data\n",
        "# Specify the features (X) and the target (y)\n",
        "X = df.drop('IMDB Score', axis=1)  # Replace 'target_column_name' with the actual name of your target column\n",
        "y = df['IMDB Score']  # Replace 'target_column_name' with the actual name of your target column\n",
        "\n",
        "# Split the data into a training set and a test set\n",
        "X_train, X_test, y_train, y_test = train_test_split(X, y, test_size=0.2, random_state=42)\n",
        "\n",
        "# The 'test_size' parameter specifies the proportion of the data to be included in the test set (in this case, 20%).\n",
        "# 'random_state' is set for reproducibility. You can change the value of 'random_state' to any integer.\n"
      ],
      "metadata": {
        "id": "Xm97u5grfY_C"
      },
      "execution_count": 14,
      "outputs": []
    },
    {
      "cell_type": "markdown",
      "source": [
        "**FEATURE SCALING USING MINMAXSCALER**"
      ],
      "metadata": {
        "id": "dFe2nJWKXiHD"
      }
    },
    {
      "cell_type": "code",
      "source": [
        "from sklearn.preprocessing import MinMaxScaler\n",
        "\n",
        "# Create an instance of MinMaxScaler\n",
        "scaler = MinMaxScaler()\n",
        "\n",
        "# Identify the non-numeric columns and exclude them from scaling\n",
        "numeric_columns = X.select_dtypes(include=[float, int]).columns\n",
        "X_numeric = X[numeric_columns]\n",
        "\n",
        "# Fit the scaler on the training data and transform the numeric data\n",
        "X_train_scaled = scaler.fit_transform(X_numeric)\n",
        "\n",
        "# Transform the test data using the same scaler\n",
        "X_test_scaled = scaler.transform(X_test[numeric_columns])\n"
      ],
      "metadata": {
        "id": "51Ne40b-gxxH"
      },
      "execution_count": 17,
      "outputs": []
    },
    {
      "cell_type": "code",
      "source": [
        "import matplotlib.pyplot as plt\n",
        "\n",
        "# Plot histograms of the original and scaled data\n",
        "fig, axes = plt.subplots(1, 2, figsize=(12, 5))\n",
        "\n",
        "# Plot original data\n",
        "axes[0].hist(X_numeric.values, bins=20, edgecolor='k', alpha=0.5, label='Original Data')\n",
        "axes[0].set_title('Original Data')\n",
        "axes[0].set_xlabel('Feature Values')\n",
        "axes[0].set_ylabel('Frequency')\n",
        "\n",
        "# Plot scaled data\n",
        "axes[1].hist(X_train_scaled, bins=20, edgecolor='k', alpha=0.5, label='Scaled Data')\n",
        "axes[1].set_title('Min-Max Scaled Data')\n",
        "axes[1].set_xlabel('Scaled Feature Values')\n",
        "axes[1].set_ylabel('Frequency')\n",
        "\n",
        "plt.legend()\n",
        "plt.tight_layout()\n",
        "plt.show()\n"
      ],
      "metadata": {
        "colab": {
          "base_uri": "https://localhost:8080/",
          "height": 406
        },
        "id": "rtTuHPmZhUBI",
        "outputId": "6add9d51-46ed-4148-f546-614ed3e726f2"
      },
      "execution_count": 18,
      "outputs": [
        {
          "output_type": "display_data",
          "data": {
            "text/plain": [
              "<Figure size 1200x500 with 2 Axes>"
            ],
            "image/png": "[encoded data removed]"
          },
          "metadata": {}
        }
      ]
    }
  ]
}