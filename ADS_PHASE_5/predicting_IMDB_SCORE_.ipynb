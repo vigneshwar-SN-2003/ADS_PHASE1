{
  "nbformat": 4,
  "nbformat_minor": 0,
  "metadata": {
    "colab": {
      "provenance": []
    },
    "kernelspec": {
      "name": "python3",
      "display_name": "Python 3"
    },
    "language_info": {
      "name": "python"
    }
  },
  "cells": [
    {
      "cell_type": "markdown",
      "source": [
        "**IMPORTING THE REQUIRED LIBRARIES**"
      ],
      "metadata": {
        "id": "BitlhOPiWxnI"
      }
    },
    {
      "cell_type": "code",
      "execution_count": null,
      "metadata": {
        "id": "rM4FmJqfTxGu"
      },
      "outputs": [],
      "source": [
        "import pandas as pd\n",
        "import matplotlib.pyplot as plt\n",
        "from sklearn.impute import SimpleImputer\n",
        "from sklearn.model_selection import train_test_split\n",
        "from sklearn.preprocessing import MinMaxScaler"
      ]
    },
    {
      "cell_type": "markdown",
      "source": [
        "**LOADING THE DATASET**"
      ],
      "metadata": {
        "id": "4jzzmqz9XBKG"
      }
    },
    {
      "cell_type": "code",
      "source": [
        "!pip install chardet\n",
        "import chardet\n",
        "\n",
        "with open('/content/NetflixOriginals.csv', 'rb') as rawdata:\n",
        "    result = chardet.detect(rawdata.read(10000))\n",
        "\n",
        "encoding = result['encoding']\n",
        "\n",
        "df = pd.read_csv('/content/NetflixOriginals.csv', encoding=encoding)\n"
      ],
      "metadata": {
        "id": "K0jR8ORtTy7c",
        "colab": {
          "base_uri": "https://localhost:8080/"
        },
        "outputId": "7d75f917-24fa-4b97-e470-8cafb83d7794"
      },
      "execution_count": null,
      "outputs": [
        {
          "output_type": "stream",
          "name": "stdout",
          "text": [
            "Requirement already satisfied: chardet in /usr/local/lib/python3.10/dist-packages (5.2.0)\n"
          ]
        }
      ]
    },
    {
      "cell_type": "markdown",
      "source": [
        "**HANDLING THE MISSING VALUES USING SIMPLE IMPUTER IN SKLEARN**"
      ],
      "metadata": {
        "id": "GugaEMnwXIrk"
      }
    },
    {
      "cell_type": "code",
      "source": [
        "df.isnull().sum()"
      ],
      "metadata": {
        "colab": {
          "base_uri": "https://localhost:8080/"
        },
        "id": "jxp-pY4pWT3t",
        "outputId": "0842aa15-d1f8-4e9a-d85e-63c45732ffb5"
      },
      "execution_count": null,
      "outputs": [
        {
          "output_type": "execute_result",
          "data": {
            "text/plain": [
              "Title         0\n",
              "Genre         0\n",
              "Premiere      0\n",
              "Runtime       0\n",
              "IMDB Score    0\n",
              "Language      0\n",
              "dtype: int64"
            ]
          },
          "metadata": {},
          "execution_count": 15
        }
      ]
    },
    {
      "cell_type": "code",
      "source": [
        "\n",
        "# Handling missing values using SimpleImputer\n",
        "imputer = SimpleImputer(strategy='mean')\n",
        "df = df.fillna(df.mean())  # Fill missing values with mean values"
      ],
      "metadata": {
        "colab": {
          "base_uri": "https://localhost:8080/"
        },
        "id": "Ok7z-bYnWhul",
        "outputId": "acfe8ae5-887a-4fa4-ca48-2e9d519f7b14"
      },
      "execution_count": null,
      "outputs": [
        {
          "output_type": "stream",
          "name": "stderr",
          "text": [
            "<ipython-input-16-5be8887a7716>:3: FutureWarning: The default value of numeric_only in DataFrame.mean is deprecated. In a future version, it will default to False. In addition, specifying 'numeric_only=None' is deprecated. Select only valid columns or specify the value of numeric_only to silence this warning.\n",
            "  df = df.fillna(df.mean())  # Fill missing values with mean values\n"
          ]
        }
      ]
    },
    {
      "cell_type": "markdown",
      "source": [
        "**SPLITING THE DATA INTO TRAIN SET AND TEST SET**"
      ],
      "metadata": {
        "id": "LoM9QM4ZXU-D"
      }
    },
    {
      "cell_type": "code",
      "source": [
        "from sklearn.model_selection import train_test_split\n",
        "\n",
        "# Assuming your DataFrame is named 'df' and contains your data\n",
        "# Specify the features (X) and the target (y)\n",
        "X = df.drop('IMDB Score', axis=1)  # Replace 'target_column_name' with the actual name of your target column\n",
        "y = df['IMDB Score']  # Replace 'target_column_name' with the actual name of your target column\n",
        "\n",
        "# Split the data into a training set and a test set\n",
        "X_train, X_test, y_train, y_test = train_test_split(X, y, test_size=0.2, random_state=42)\n",
        "\n",
        "# The 'test_size' parameter specifies the proportion of the data to be included in the test set (in this case, 20%).\n",
        "# 'random_state' is set for reproducibility. You can change the value of 'random_state' to any integer.\n"
      ],
      "metadata": {
        "id": "Xm97u5grfY_C"
      },
      "execution_count": null,
      "outputs": []
    },
    {
      "cell_type": "markdown",
      "source": [
        "**FEATURE SCALING USING MINMAXSCALER**"
      ],
      "metadata": {
        "id": "dFe2nJWKXiHD"
      }
    },
    {
      "cell_type": "code",
      "source": [
        "from sklearn.preprocessing import MinMaxScaler\n",
        "\n",
        "# Create an instance of MinMaxScaler\n",
        "scaler = MinMaxScaler()\n",
        "\n",
        "# Identify the non-numeric columns and exclude them from scaling\n",
        "numeric_columns = X.select_dtypes(include=[float, int]).columns\n",
        "X_numeric = X[numeric_columns]\n",
        "\n",
        "# Fit the scaler on the training data and transform the numeric data\n",
        "X_train_scaled = scaler.fit_transform(X_numeric)\n",
        "\n",
        "# Transform the test data using the same scaler\n",
        "X_test_scaled = scaler.transform(X_test[numeric_columns])\n"
      ],
      "metadata": {
        "id": "51Ne40b-gxxH"
      },
      "execution_count": null,
      "outputs": []
    },
    {
      "cell_type": "code",
      "source": [
        "import matplotlib.pyplot as plt\n",
        "\n",
        "# Plot histograms of the original and scaled data\n",
        "fig, axes = plt.subplots(1, 2, figsize=(12, 5))\n",
        "\n",
        "# Plot original data\n",
        "axes[0].hist(X_numeric.values, bins=20, edgecolor='k', alpha=0.5, label='Original Data')\n",
        "axes[0].set_title('Original Data')\n",
        "axes[0].set_xlabel('Feature Values')\n",
        "axes[0].set_ylabel('Frequency')\n",
        "\n",
        "# Plot scaled data\n",
        "axes[1].hist(X_train_scaled, bins=20, edgecolor='k', alpha=0.5, label='Scaled Data')\n",
        "axes[1].set_title('Min-Max Scaled Data')\n",
        "axes[1].set_xlabel('Scaled Feature Values')\n",
        "axes[1].set_ylabel('Frequency')\n",
        "\n",
        "plt.legend()\n",
        "plt.tight_layout()\n",
        "plt.show()\n"
      ],
      "metadata": {
        "colab": {
          "base_uri": "https://localhost:8080/",
          "height": 507
        },
        "id": "rtTuHPmZhUBI",
        "outputId": "4d4dc707-429c-4818-db82-9e4f4fd20184"
      },
      "execution_count": null,
      "outputs": [
        {
          "output_type": "display_data",
          "data": {
            "text/plain": [
              "<Figure size 1200x500 with 2 Axes>"
            ],
            "image/png": "[encoded data removed]"
          },
          "metadata": {}
        }
      ]
    },
    {
      "cell_type": "markdown",
      "source": [
        "**FEATURE ENGINEERING**"
      ],
      "metadata": {
        "id": "BIufmv6uDYGQ"
      }
    },
    {
      "cell_type": "code",
      "source": [
        "\n",
        "# Define the window size for the rolling mean\n",
        "window_size = 5  # Adjust this based on your dataset and needs\n",
        "\n",
        "# Calculate the rolling mean for the 'IMDB Score' column\n",
        "df['IMDB_Score_Rolling_Mean'] = df['IMDB Score'].rolling(window=window_size).mean()\n",
        "\n",
        "# Drop rows with NaN values that result from the rolling mean calculation\n",
        "df.dropna(inplace=True)\n"
      ],
      "metadata": {
        "id": "bTjj1Eb6CMJn"
      },
      "execution_count": null,
      "outputs": []
    },
    {
      "cell_type": "code",
      "source": [
        "\n",
        "# Create a figure and axis for the plot\n",
        "fig, ax = plt.subplots(figsize=(10, 6))\n",
        "\n",
        "# Plot the rolling mean\n",
        "ax.plot(df['IMDB_Score_Rolling_Mean'], label='Rolling Mean', color='blue')\n",
        "\n",
        "# Add labels and a legend\n",
        "ax.set_xlabel('Data Points')\n",
        "ax.set_ylabel('Rolling Mean')\n",
        "ax.set_title('Rolling Mean of IMDB Scores')\n",
        "ax.legend()\n",
        "\n",
        "# Show the plot\n",
        "plt.show()\n"
      ],
      "metadata": {
        "colab": {
          "base_uri": "https://localhost:8080/",
          "height": 564
        },
        "id": "ssL5kLpODOYC",
        "outputId": "53ba997b-6d06-4e91-9b3c-d30dd08f2c60"
      },
      "execution_count": null,
      "outputs": [
        {
          "output_type": "display_data",
          "data": {
            "text/plain": [
              "<Figure size 1000x600 with 1 Axes>"
            ],
            "image/png": "[encoded data removed]"
          },
          "metadata": {}
        }
      ]
    },
    {
      "cell_type": "code",
      "source": [
        "# Assuming 'df' is your DataFrame and 'column_name' is the name of the column to convert\n",
        "df['Premiere'] = pd.to_numeric(df['Premiere'], errors='coerce', downcast='float')\n"
      ],
      "metadata": {
        "id": "B7IYO5OvlTKP"
      },
      "execution_count": null,
      "outputs": []
    },
    {
      "cell_type": "code",
      "source": [
        "import pandas as pd\n",
        "from sklearn.model_selection import train_test_split\n",
        "from sklearn.linear_model import LinearRegression\n",
        "from sklearn.metrics import mean_squared_error, r2_score\n",
        "\n",
        "\n",
        "\n",
        "# Specify the target variable and the input features\n",
        "X = df.drop(columns=['IMDB Score'])\n",
        "y = df['IMDB Score']\n",
        "\n",
        "# Split the data into a training set and a test set\n",
        "X_train, X_test, y_train, y_test = train_test_split(X, y, test_size=0.2, random_state=42)\n",
        "\n",
        "# Create a Linear Regression model\n",
        "model = LinearRegression()\n",
        "\n",
        "# Train the model on the training data\n",
        "model.fit(X_train, y_train)\n",
        "\n",
        "# Make predictions on the test data\n",
        "predictions = model.predict(X_test)\n",
        "\n",
        "# Evaluate the model using Mean Squared Error (MSE)\n",
        "mse = mean_squared_error(y_test, predictions)\n",
        "print(f\"Mean Squared Error: {mse}\")\n",
        "\n",
        "# Optionally, evaluate the model using R-squared (R2) for regression tasks\n",
        "r2 = r2_score(y_test, predictions)\n",
        "print(f\"R-squared (R2): {r2}\")\n"
      ],
      "metadata": {
        "colab": {
          "base_uri": "https://localhost:8080/"
        },
        "id": "wweavxhoXfkT",
        "outputId": "2a5228af-e31c-4e0f-d32b-a763ef77cc28"
      },
      "execution_count": null,
      "outputs": [
        {
          "output_type": "stream",
          "name": "stdout",
          "text": [
            "Mean Squared Error: 0.9137049403592807\n",
            "R-squared (R2): 0.020018898537501495\n"
          ]
        }
      ]
    },
    {
      "cell_type": "code",
      "source": [
        "# Make predictions on the test data\n",
        "predictions = model.predict(X_test)\n",
        "\n",
        "# Define the threshold for classification\n",
        "threshold = 1.8\n",
        "\n",
        "# Calculate whether predictions are within the threshold\n",
        "correct_predictions = abs(y_test - predictions) <= threshold\n",
        "\n",
        "# Calculate accuracy\n",
        "accuracy = correct_predictions.sum() / len(correct_predictions)\n",
        "print(f\"Accuracy: {accuracy:.2%}\")\n"
      ],
      "metadata": {
        "colab": {
          "base_uri": "https://localhost:8080/"
        },
        "id": "kO-YQ1Bhg34Z",
        "outputId": "2c9f2fe8-c53a-4377-d6aa-6cee5054a3c7"
      },
      "execution_count": null,
      "outputs": [
        {
          "output_type": "stream",
          "name": "stdout",
          "text": [
            "Accuracy: 91.23%\n"
          ]
        }
      ]
    }
  ]
}